{
 "cells": [
  {
   "cell_type": "markdown",
   "id": "9aa3d82b",
   "metadata": {},
   "source": [
    "### Сходство текстов\n",
    "Дан набор предложений, скопированных с Википедии. Каждое из них имеет \"кошачью тему\" в одном из трех смыслов:\n",
    "\n",
    "* кошки (животные)\n",
    "\n",
    "* UNIX-утилита cat для вывода содержимого файлов\n",
    "\n",
    "* версии операционной системы OS X, названные в честь семейства кошачьих\n",
    "\n",
    "Pадача — найти предложения, которые ближе всего по смыслу к другому выбранному предложению из текста. В качестве меры близости по смыслу будет использоваться косинусное расстояние."
   ]
  },
  {
   "cell_type": "code",
   "execution_count": 1,
   "id": "f767dca2",
   "metadata": {},
   "outputs": [],
   "source": [
    "import re\n",
    "import numpy as np\n",
    "import scipy.spatial.distance"
   ]
  },
  {
   "cell_type": "code",
   "execution_count": 2,
   "id": "f94e42aa",
   "metadata": {},
   "outputs": [],
   "source": [
    "with open('sentences.txt', 'r') as f:\n",
    "    lines = f.readlines()\n",
    "lines = [l.lower() for l in lines]\n",
    "lines = [l.strip() for l in lines]"
   ]
  },
  {
   "cell_type": "code",
   "execution_count": 3,
   "id": "9ecb2630",
   "metadata": {},
   "outputs": [
    {
     "data": {
      "text/plain": [
       "['in comparison to dogs, cats have not undergone major changes during the domestication process.',\n",
       " 'as cat simply catenates streams of bytes, it can be also used to concatenate binary files, where it will just concatenate sequence of bytes.']"
      ]
     },
     "execution_count": 3,
     "metadata": {},
     "output_type": "execute_result"
    }
   ],
   "source": [
    "lines[:2]"
   ]
  },
  {
   "cell_type": "markdown",
   "id": "a31a4beb",
   "metadata": {},
   "source": [
    "### Разобьем предложения на слова и подсчитаем количество вхождений каждого слова в наш текст."
   ]
  },
  {
   "cell_type": "code",
   "execution_count": 4,
   "id": "8e07394e",
   "metadata": {},
   "outputs": [],
   "source": [
    "tokens = []\n",
    "for line in lines:\n",
    "    for token in re.split('[^a-z]', line):\n",
    "        if token != '':\n",
    "            tokens.append(token)"
   ]
  },
  {
   "cell_type": "code",
   "execution_count": 5,
   "id": "7c6061d6",
   "metadata": {},
   "outputs": [
    {
     "data": {
      "text/plain": [
       "['in',\n",
       " 'comparison',\n",
       " 'to',\n",
       " 'dogs',\n",
       " 'cats',\n",
       " 'have',\n",
       " 'not',\n",
       " 'undergone',\n",
       " 'major',\n",
       " 'changes']"
      ]
     },
     "execution_count": 5,
     "metadata": {},
     "output_type": "execute_result"
    }
   ],
   "source": [
    "tokens[:10]"
   ]
  },
  {
   "cell_type": "code",
   "execution_count": 6,
   "id": "fc8142d1",
   "metadata": {},
   "outputs": [
    {
     "data": {
      "text/plain": [
       "[('the', 20), ('of', 19), ('to', 14), ('and', 14), ('a', 13)]"
      ]
     },
     "execution_count": 6,
     "metadata": {},
     "output_type": "execute_result"
    }
   ],
   "source": [
    "from collections import Counter\n",
    "\n",
    "words_frequency = Counter(tokens)\n",
    "words_frequency.most_common(5)"
   ]
  },
  {
   "cell_type": "markdown",
   "id": "3fa83ca9",
   "metadata": {},
   "source": [
    "Составим матрицу размера n * d, где n — число предложений, а d — число различных слов. Элемент с индексом (i, j) в этой матрице равен количеству вхождений j-го слова в i-е предложение. \n"
   ]
  },
  {
   "cell_type": "code",
   "execution_count": 7,
   "id": "c1084415",
   "metadata": {},
   "outputs": [
    {
     "data": {
      "text/plain": [
       "array([[1., 1., 1., ..., 0., 0., 0.],\n",
       "       [0., 0., 1., ..., 0., 0., 0.],\n",
       "       [0., 0., 2., ..., 0., 0., 0.],\n",
       "       ...,\n",
       "       [0., 0., 0., ..., 0., 0., 0.],\n",
       "       [1., 0., 1., ..., 0., 0., 0.],\n",
       "       [0., 0., 1., ..., 1., 1., 1.]])"
      ]
     },
     "execution_count": 7,
     "metadata": {},
     "output_type": "execute_result"
    }
   ],
   "source": [
    "word_matrix = np.zeros((len(lines), len(words_frequency)))\n",
    "\n",
    "for i in range(len(lines)):\n",
    "    j = 0\n",
    "    tokens_per_sentence = [t for t in re.split('[^a-z]', lines[i]) if t != '']\n",
    "    for key in words_frequency.keys():\n",
    "        word_matrix[i, j] = tokens_per_sentence.count(key)\n",
    "        j += 1\n",
    "word_matrix"
   ]
  },
  {
   "cell_type": "markdown",
   "id": "25e0471d",
   "metadata": {},
   "source": [
    "Найдем похожие предложения с помощью косинусного расстояния\n",
    "\n",
    "Воспользуемся следующей формулой: $$\\begin{equation}\n",
    "\\cos ({\\bf u},{\\bf v})= {{\\bf u} {\\bf v} \\over \\|{\\bf u}\\| \\|{\\bf v}\\|} = \\frac{ \\sum_{i=1}^{n}{{\\bf u}_i{\\bf v}_i} }{ \\sqrt{\\sum_{i=1}^{n}{({\\bf u}_i)^2}} \\sqrt{\\sum_{i=1}^{n}{({\\bf v}_i)^2}} }\n",
    "\\end{equation}$$\n",
    "\n",
    "\n",
    "Из википедии (https://en.wikipedia.org/wiki/Cosine_similarity):\n",
    "\n",
    "*In data analysis, cosine similarity is a measure of similarity between two sequences of numbers. For defining it, the sequences are viewed as vectors in an inner product space, and the cosine similarity is defined as the cosine of the angle between them, that is, the dot product of the vectors divided by the product of their lengths.*\n",
    "\n",
    "*The resulting similarity ranges from −1 meaning exactly opposite, to 1 meaning exactly the same, with 0 indicating orthogonality or decorrelation, while in-between values indicate intermediate similarity or dissimilarity.*\n",
    "\n",
    "*For example, in information retrieval and text mining, each word is assigned a different coordinate and a document is represented by the vector of the numbers of occurrences of each word in the document. Cosine similarity then gives a useful measure of how similar two documents are likely to be, in terms of their subject matter, and indepently of the length of the documents.*"
   ]
  },
  {
   "cell_type": "code",
   "execution_count": 8,
   "id": "dbd2cb99",
   "metadata": {},
   "outputs": [],
   "source": [
    "example_sentence = 0 #будем искать предложения, похожие на lines[0]\n",
    "\n",
    "distances = np.zeros(word_matrix.shape[0])\n",
    "\n",
    "numerator = word_matrix[example_sentence] @ word_matrix.T\n",
    "example_sentence_norm = np.sqrt((word_matrix[example_sentence] ** 2).sum())\n",
    "denominator = np.sqrt((word_matrix ** 2).sum(axis=1)) * example_sentence_norm\n",
    "\n",
    "distances = numerator / denominator"
   ]
  },
  {
   "cell_type": "code",
   "execution_count": 9,
   "id": "0405d768",
   "metadata": {},
   "outputs": [],
   "source": [
    "# a simpler unvectorized way of calculating cosine distances:\n",
    "\n",
    "#for i in range(word_matrix.shape[0]):\n",
    "#    distances[i] = scipy.spatial.distance.cosine(word_matrix[example_sentence, :], word_matrix[i, :])"
   ]
  },
  {
   "cell_type": "code",
   "execution_count": 10,
   "id": "7806cb9e",
   "metadata": {},
   "outputs": [
    {
     "data": {
      "text/plain": [
       "1.0"
      ]
     },
     "execution_count": 10,
     "metadata": {},
     "output_type": "execute_result"
    }
   ],
   "source": [
    "distances[example_sentence]"
   ]
  },
  {
   "cell_type": "markdown",
   "id": "2fcc097b",
   "metadata": {},
   "source": [
    "Получим индексы *n* самых похожих на `example_sentence` предложений:"
   ]
  },
  {
   "cell_type": "code",
   "execution_count": 12,
   "id": "10d97ada",
   "metadata": {},
   "outputs": [],
   "source": [
    "n = 2\n",
    "closest_sentences = np.argsort(distances)[::-1][1:n+1]"
   ]
  },
  {
   "cell_type": "code",
   "execution_count": 13,
   "id": "6a655fc2",
   "metadata": {},
   "outputs": [
    {
     "name": "stdout",
     "output_type": "stream",
     "text": [
      "Example sentence is:\n",
      " in comparison to dogs, cats have not undergone major changes during the domestication process.\n",
      "Closest sentences are:\n",
      "\n",
      "domestic cats are similar in size to the other members of the genus felis, typically weighing between 4 and 5 kg (8.8 and 11.0 lb).\n",
      "in one, people deliberately tamed cats in a process of artificial selection, as they were useful predators of vermin.\n"
     ]
    }
   ],
   "source": [
    "print(\"Example sentence is:\\n\", lines[example_sentence])\n",
    "print(\"Closest sentences are:\\n\")\n",
    "for i in closest_sentences:\n",
    "    print(lines[i])"
   ]
  },
  {
   "cell_type": "markdown",
   "id": "29e56a77",
   "metadata": {},
   "source": [
    "Соберем это все в функцию для поиска похожих по содержанию предложений:"
   ]
  },
  {
   "cell_type": "code",
   "execution_count": 14,
   "id": "05bd2b8a",
   "metadata": {},
   "outputs": [],
   "source": [
    "def find_similar(ex_sent, n=2):\n",
    "    numerator = word_matrix[ex_sent] @ word_matrix.T\n",
    "    ex_sent_norm = np.sqrt((word_matrix[ex_sent] ** 2).sum())\n",
    "    denominator = np.sqrt((word_matrix ** 2).sum(axis=1)) * ex_sent_norm\n",
    "\n",
    "    distances = numerator / denominator\n",
    "    \n",
    "    return np.argsort(distances)[::-1][1:n+1]"
   ]
  },
  {
   "cell_type": "code",
   "execution_count": 15,
   "id": "500f2f14",
   "metadata": {},
   "outputs": [
    {
     "name": "stdout",
     "output_type": "stream",
     "text": [
      "Example sentence is:\n",
      " as cat simply catenates streams of bytes, it can be also used to concatenate binary files, where it will just concatenate sequence of bytes.\n",
      "\n",
      "Closest sentences are:\n",
      "in terms of legibility, a sequence of commands starting with cat and connected by pipes has a clear left-to-right flow of information.\n",
      "when you type simply cat command without any arguments, it just receives the stdin content and displays it in the stdout.\n",
      "as of mid 2010, some apple computers have firmware factory installed which will no longer allow installation of mac os x leopard.\n"
     ]
    }
   ],
   "source": [
    "closest = find_similar(1, 3)\n",
    "print(\"Example sentence is:\\n\", lines[1])\n",
    "print(\"\\nClosest sentences are:\")\n",
    "for i in closest:\n",
    "    print(lines[i])"
   ]
  }
 ],
 "metadata": {
  "kernelspec": {
   "display_name": "Python 3",
   "language": "python",
   "name": "python3"
  },
  "language_info": {
   "codemirror_mode": {
    "name": "ipython",
    "version": 3
   },
   "file_extension": ".py",
   "mimetype": "text/x-python",
   "name": "python",
   "nbconvert_exporter": "python",
   "pygments_lexer": "ipython3",
   "version": "3.8.8"
  }
 },
 "nbformat": 4,
 "nbformat_minor": 5
}
